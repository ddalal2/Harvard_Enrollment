{
 "metadata": {
  "name": ""
 },
 "nbformat": 3,
 "nbformat_minor": 0,
 "worksheets": [
  {
   "cells": [
    {
     "cell_type": "code",
     "collapsed": false,
     "input": [
      "#Import Libraries\n",
      "import numpy as np\n",
      "import matplotlib.pyplot as plt\n",
      "import pandas as pd\n",
      "import re\n",
      "import json"
     ],
     "language": "python",
     "metadata": {},
     "outputs": [],
     "prompt_number": 104
    },
    {
     "cell_type": "markdown",
     "metadata": {},
     "source": [
      "<b>1. Import Data</b> <br>\n",
      "The data is spread out across 4 csv files, each representing a year. The first thing I'll do is read the csv into dataframes so that I later consolidate them into a single json file for the visualizations. "
     ]
    },
    {
     "cell_type": "code",
     "collapsed": false,
     "input": [
      "data_2012 = pd.read_csv('data_2012.csv')\n",
      "data_2010 = pd.read_csv('data_2010.csv')\n",
      "data_2008 = pd.read_csv('data_2008.csv')\n",
      "data_2006 = pd.read_csv('data_2006.csv')\n",
      "\n",
      "#Creating a list of the dataframes and associated years\n",
      "data_ls = [[data_2012, 2012],[data_2010,2010],[data_2008, 2008],[data_2006,2006]]"
     ],
     "language": "python",
     "metadata": {},
     "outputs": [],
     "prompt_number": 105
    },
    {
     "cell_type": "markdown",
     "metadata": {},
     "source": [
      "<b>2. Create a json data struct for each year</b> <br>\n",
      "Create following data structure for data: <br>"
     ]
    },
    {
     "cell_type": "raw",
     "metadata": {},
     "source": [
      "[\n",
      "    year: '2012', \n",
      "    Field of Study: \n",
      "    [\n",
      "        Education:\n",
      "        {\n",
      "            total: 1,000,\n",
      "            Men: 500,\n",
      "            Women 500, \n",
      "            .....\n",
      "        },\n",
      "        Denistry:\n",
      "        {\n",
      "            total: 1,000,\n",
      "            Men: 500,\n",
      "            Women 500, \n",
      "            .....\n",
      "        }\n",
      "        .....\n",
      "    ]\n",
      "]"
     ]
    },
    {
     "cell_type": "code",
     "collapsed": false,
     "input": [
      "#          Methods\n",
      "#########################################\n",
      "def get_fields_of_study(df):\n",
      "    grouped = df.groupby(df.columns.values[3])\n",
      "    disciplines = {}\n",
      "    for k,v in grouped:\n",
      "        #Rename key by stripping coded variable name\n",
      "        key = str(re.split('[-]',k)[1])\n",
      "        stats = {}\n",
      "        for item in v:\n",
      "            #rename column name by stripping out coded variable name\n",
      "            split = re.split('[.]',item)\n",
      "            #pull stripped value from the list created by split method\n",
      "            col_renamed = split[1] if len(split) > 1 else split[0]\n",
      "            stats[col_renamed] =  v[item].values[0]\n",
      "        disciplines[key] = stats\n",
      "        \n",
      "    disciplines['Field of Study'] = disciplines\n",
      "    return disciplines\n",
      "\n",
      "#########################################\n",
      "\n",
      "#Iterate over all datasets and construct json file\n",
      "final_data = []\n",
      "for dset in data_ls:\n",
      "    #get actual data\n",
      "    fields_of_study = get_fields_of_study(dset[0])\n",
      "    final_data.append({str(dset[1]): {\"Fields of Study\" : fields_of_study}})"
     ],
     "language": "python",
     "metadata": {},
     "outputs": [],
     "prompt_number": 152
    },
    {
     "cell_type": "code",
     "collapsed": false,
     "input": [
      "#Export to text file\n",
      "f = open ('data.txt' , 'a')\n",
      "f.write(str(final_data))\n",
      "f.close()"
     ],
     "language": "python",
     "metadata": {},
     "outputs": [],
     "prompt_number": 155
    },
    {
     "cell_type": "code",
     "collapsed": false,
     "input": [],
     "language": "python",
     "metadata": {},
     "outputs": []
    }
   ],
   "metadata": {}
  }
 ]
}